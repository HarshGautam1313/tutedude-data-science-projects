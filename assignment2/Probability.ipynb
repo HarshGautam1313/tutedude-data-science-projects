{
 "cells": [
  {
   "cell_type": "markdown",
   "id": "88046bd9",
   "metadata": {},
   "source": [
    "# Probability & Statistics Simulations - Explanations\n",
    "\n",
    "### 1️⃣ Coin Toss & Dice Roll\n",
    "- Toss a coin 10,000 times → count heads & tails.\n",
    "\n",
    "  **Probability formula:**   $P(E) = \\frac{\\text{favorable outcomes}}{\\text{total trials}}$  \n",
    "\n",
    "- Roll two dice → count how often sum = 7.  \n",
    "\n",
    "  **Probability formula:** $P(\\text{sum}=7) = \\frac{\\#\\text{times sum=7}}{\\text{total rolls}}$\n",
    "\n",
    "---\n",
    "\n",
    "\n"
   ]
  },
  {
   "cell_type": "code",
   "execution_count": null,
   "id": "61b7bb3c",
   "metadata": {},
   "outputs": [
    {
     "name": "stdout",
     "output_type": "stream",
     "text": [
      "Coin Toss Simulation:\n",
      "Probability of Heads: 0.500\n",
      "Probability of Tails: 0.500\n",
      "\n",
      "Dice Roll Simulation:\n",
      "Probability of getting sum = 7: 0.165\n"
     ]
    }
   ],
   "source": [
    "import random\n",
    "\n",
    "# (a) Tossing a coin 10,000 times\n",
    "num_trials = 10000\n",
    "heads = 0\n",
    "tails = 0\n",
    "\n",
    "for _ in range(num_trials):\n",
    "    toss = random.choice(['H', 'T'])\n",
    "    if toss == 'H':\n",
    "        heads += 1\n",
    "    else:\n",
    "        tails += 1\n",
    "\n",
    "p_heads = heads / num_trials\n",
    "p_tails = tails / num_trials\n",
    "\n",
    "print(\"Coin Toss Simulation:\")\n",
    "print(f\"Probability of Heads: {p_heads:.3f}\")\n",
    "print(f\"Probability of Tails: {p_tails:.3f}\")\n",
    "\n",
    "# (b) Rolling two dice and computing probability of sum = 7\n",
    "num_trials = 10000\n",
    "sum_7 = 0\n",
    "\n",
    "for _ in range(num_trials):\n",
    "    die1 = random.randint(1, 6)\n",
    "    die2 = random.randint(1, 6)\n",
    "    if die1 + die2 == 7:\n",
    "        sum_7 += 1\n",
    "\n",
    "p_sum_7 = sum_7 / num_trials\n",
    "print(\"\\nDice Roll Simulation:\")\n",
    "print(f\"Probability of getting sum = 7: {p_sum_7:.3f}\")\n",
    "\n"
   ]
  },
  {
   "cell_type": "markdown",
   "id": "5ab3462e",
   "metadata": {},
   "source": [
    "### 2️⃣ At Least One “6” in 10 Rolls\n",
    "- Roll a die 10 times and check if at least one 6 appears.  \n",
    "\n",
    "  **Probability formula:** $P(\\text{at least one 6}) = \\frac{\\#\\text{successful trials}}{\\text{total trials}}$  \n",
    "\n",
    "  or using complement: $P(\\text{at least one 6}) = 1 - \\left(\\frac{5}{6}\\right)^{10}$\n",
    "\n",
    "---\n"
   ]
  },
  {
   "cell_type": "code",
   "execution_count": 11,
   "id": "8fbab43e",
   "metadata": {},
   "outputs": [
    {
     "name": "stdout",
     "output_type": "stream",
     "text": [
      "Estimated Probability of at least one '6' in 10 rolls: 0.835\n"
     ]
    }
   ],
   "source": [
    "def prob_at_least_one_six(trials=10000):\n",
    "    success = 0\n",
    "\n",
    "    for _ in range(trials):\n",
    "        # Roll 10 times\n",
    "        rolls = [random.randint(1, 6) for _ in range(10)]\n",
    "        if 6 in rolls:\n",
    "            success += 1\n",
    "\n",
    "    return success / trials\n",
    "\n",
    "p = prob_at_least_one_six()\n",
    "print(f\"Estimated Probability of at least one '6' in 10 rolls: {p:.3f}\")\n",
    "\n"
   ]
  },
  {
   "cell_type": "markdown",
   "id": "5778cee6",
   "metadata": {},
   "source": [
    "\n",
    "### 3️⃣ Conditional Probability\n",
    "- Draw balls with replacement → count Red after Blue.  \n",
    "\n",
    "  **Conditional probability formula:** $P(\\text{Red | Blue}) = \\frac{\\#\\text{times Red occurs after Blue}}{\\#\\text{times Blue occurred previously}}$\n",
    "\n",
    "---\n"
   ]
  },
  {
   "cell_type": "code",
   "execution_count": 12,
   "id": "5c172161",
   "metadata": {},
   "outputs": [
    {
     "name": "stdout",
     "output_type": "stream",
     "text": [
      "P(Red | Previous Blue) ≈ 0.236\n",
      "Expected Theoretical P(Red): 0.25\n"
     ]
    }
   ],
   "source": [
    "colors = ['red'] * 5 + ['green'] * 7 + ['blue'] * 8\n",
    "draws = []\n",
    "\n",
    "# Simulate 1000 draws with replacement\n",
    "for _ in range(1000):\n",
    "    draws.append(random.choice(colors))\n",
    "\n",
    "# Compute P(Red | Previous Blue)\n",
    "count_blue_then_red = 0\n",
    "count_prev_blue = 0\n",
    "\n",
    "for i in range(1, len(draws)):\n",
    "    if draws[i-1] == 'blue':\n",
    "        count_prev_blue += 1\n",
    "        if draws[i] == 'red':\n",
    "            count_blue_then_red += 1\n",
    "\n",
    "p_red_given_blue = count_blue_then_red / count_prev_blue\n",
    "print(f\"P(Red | Previous Blue) ≈ {p_red_given_blue:.3f}\")\n",
    "\n",
    "# Verifying Bayes' theorem approximately\n",
    "# Theoretical P(Red) = 5/20 = 0.25\n",
    "# Theoretical P(Blue) = 8/20 = 0.4\n",
    "# Since draws are independent, P(Red|Blue) ≈ P(Red)\n",
    "\n",
    "print(f\"Expected Theoretical P(Red): 0.25\")\n"
   ]
  },
  {
   "cell_type": "markdown",
   "id": "d57904d6",
   "metadata": {},
   "source": [
    "### 4️⃣ Discrete Random Variable\n",
    "\n",
    "- Sample 1000 values of $X$ with $P(X=1,2,3)=0.25,0.35,0.4$.  \n",
    "\n",
    "  **Mean formula:** $\\bar{X} = \\frac{\\sum X_i}{n}$  \n",
    "\n",
    "  **Variance formula:** $Var(X) = \\frac{\\sum (X_i - \\bar{X})^2}{n}$  \n",
    "\n",
    "  **Standard deviation:** $SD = \\sqrt{Var(X)}$\n",
    "\n",
    "---\n"
   ]
  },
  {
   "cell_type": "code",
   "execution_count": 13,
   "id": "d78ccbef",
   "metadata": {},
   "outputs": [
    {
     "name": "stdout",
     "output_type": "stream",
     "text": [
      "Discrete Random Variable Simulation:\n",
      "Empirical Mean: 2.134\n",
      "Empirical Variance: 0.656\n",
      "Empirical Standard Deviation: 0.810\n"
     ]
    }
   ],
   "source": [
    "import numpy as np\n",
    "\n",
    "values = [1, 2, 3]\n",
    "probabilities = [0.25, 0.35, 0.4]\n",
    "\n",
    "# Generate 1000 samples\n",
    "sample = np.random.choice(values, size=1000, p=probabilities)\n",
    "\n",
    "mean = np.mean(sample)\n",
    "variance = np.var(sample)\n",
    "std_dev = np.std(sample)\n",
    "\n",
    "print(\"Discrete Random Variable Simulation:\")\n",
    "print(f\"Empirical Mean: {mean:.3f}\")\n",
    "print(f\"Empirical Variance: {variance:.3f}\")\n",
    "print(f\"Empirical Standard Deviation: {std_dev:.3f}\")\n",
    "\n"
   ]
  },
  {
   "cell_type": "markdown",
   "id": "02ea7943",
   "metadata": {},
   "source": [
    "### 5️⃣ Exponential Distribution\n",
    "- Generate 2000 samples with mean = 5 using inverse transform method.  \n",
    "\n",
    "  **Exponential sample formula:** $X = -\\frac{\\ln(1-U)}{\\lambda}$, where $\\lambda = 1/\\text{mean}$  \n",
    "\n",
    "- Compute mean and variance from samples.\n",
    "---\n"
   ]
  },
  {
   "cell_type": "code",
   "execution_count": 18,
   "id": "30716104",
   "metadata": {},
   "outputs": [
    {
     "data": {
      "image/png": "[encoded data removed]",
      "text/plain": [
       "<Figure size 800x500 with 1 Axes>"
      ]
     },
     "metadata": {},
     "output_type": "display_data"
    }
   ],
   "source": [
    "import matplotlib.pyplot as plt\n",
    "\n",
    "# Mean = 5 -> scale parameter = 5\n",
    "samples = np.random.exponential(scale=5, size=2000)\n",
    "\n",
    "plt.figure(figsize=(8, 5))\n",
    "plt.hist(samples, bins=30, density=True, alpha=0.6, color='blue', label=\"Histogram\")\n",
    "\n",
    "# Overlay PDF\n",
    "x = np.linspace(0, max(samples), 100)\n",
    "pdf = (1/5) * np.exp(-x/5)\n",
    "plt.plot(x, pdf, 'r-', lw=2, label='PDF')\n",
    "\n",
    "plt.title(\"Exponential Distribution (mean = 5)\")\n",
    "plt.xlabel(\"Value\")\n",
    "plt.ylabel(\"Density\")\n",
    "plt.legend()\n",
    "plt.show()\n"
   ]
  },
  {
   "cell_type": "markdown",
   "id": "df7d91e9",
   "metadata": {},
   "source": [
    "### 6️⃣ Central Limit Theorem\n",
    "\n",
    "- Take 1000 samples of size $n=30$ from uniform(0,1) → compute sample means.  \n",
    "\n",
    "  **Sample mean formula:** $\\bar{X} = \\frac{\\sum X_i}{n}$  \n",
    "\n",
    "  **Variance of means:** $Var(\\bar{X}) = \\frac{\\sum (\\bar{X}_i - \\mu)^2}{N}$  \n",
    "\n",
    "- Distribution of sample means → approximately normal even if original data is uniform.\n",
    "---"
   ]
  },
  {
   "cell_type": "code",
   "execution_count": 17,
   "id": "f70c94a1",
   "metadata": {},
   "outputs": [
    {
     "data": {
      "image/png": "[encoded data removed]",
      "text/plain": [
       "<Figure size 1000x500 with 2 Axes>"
      ]
     },
     "metadata": {},
     "output_type": "display_data"
    }
   ],
   "source": [
    "# Generate 10,000 uniform random numbers\n",
    "uniform_data = np.random.uniform(0, 1, 10000)\n",
    "\n",
    "# Draw 1000 samples of size n = 30 and compute sample means\n",
    "sample_means = [np.mean(np.random.choice(uniform_data, 30)) for _ in range(1000)]\n",
    "\n",
    "plt.figure(figsize=(10,5))\n",
    "\n",
    "plt.subplot(1, 2, 1)\n",
    "plt.hist(uniform_data, bins=30, color='skyblue', edgecolor='black', density=True)\n",
    "plt.title(\"Uniform Distribution (0,1)\")\n",
    "\n",
    "plt.subplot(1, 2, 2)\n",
    "plt.hist(sample_means, bins=30, color='salmon', edgecolor='black', density=True)\n",
    "plt.title(\"Distribution of Sample Means (n=30)\")\n",
    "\n",
    "plt.tight_layout()\n",
    "plt.show()\n"
   ]
  }
 ],
 "metadata": {
  "kernelspec": {
   "display_name": "Python 3",
   "language": "python",
   "name": "python3"
  },
  "language_info": {
   "codemirror_mode": {
    "name": "ipython",
    "version": 3
   },
   "file_extension": ".py",
   "mimetype": "text/x-python",
   "name": "python",
   "nbconvert_exporter": "python",
   "pygments_lexer": "ipython3",
   "version": "3.14.0"
  }
 },
 "nbformat": 4,
 "nbformat_minor": 5
}
