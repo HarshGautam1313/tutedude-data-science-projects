{
 "cells": [
  {
   "cell_type": "markdown",
   "id": "88046bd9",
   "metadata": {},
   "source": [
    "# Probability & Statistics Simulations - Explanations\n",
    "\n",
    "### 1️⃣ Coin Toss & Dice Roll\n",
    "- Toss a coin 10,000 times → count heads & tails.\n",
    "\n",
    "  **Probability formula:**   $P(E) = \\frac{\\text{favorable outcomes}}{\\text{total trials}}$  \n",
    "\n",
    "- Roll two dice → count how often sum = 7.  \n",
    "\n",
    "  **Probability formula:** $P(\\text{sum}=7) = \\frac{\\#\\text{times sum=7}}{\\text{total rolls}}$\n",
    "\n",
    "---\n",
    "\n",
    "\n"
   ]
  },
  {
   "cell_type": "code",
   "execution_count": 3,
   "id": "61b7bb3c",
   "metadata": {},
   "outputs": [
    {
     "name": "stdout",
     "output_type": "stream",
     "text": [
      "1(a) Coin Toss Simulation:\n",
      "  Probability of Heads: 0.506\n",
      "  Probability of Tails: 0.493\n",
      "\n",
      "1(b) Dice Roll Simulation:\n",
      "  Probability of getting sum = 7: 0.164\n"
     ]
    }
   ],
   "source": [
    "import random\n",
    "\n",
    "# (a) Tossing a coin 10,000 times\n",
    "num_trials = 10000\n",
    "heads = 0\n",
    "tails = 0\n",
    "\n",
    "for _ in range(num_trials):\n",
    "    toss = random.choice(['H', 'T'])\n",
    "    if toss == 'H':\n",
    "        heads += 1\n",
    "    else:\n",
    "        tails += 1\n",
    "\n",
    "p_heads = heads / num_trials\n",
    "p_tails = tails / num_trials\n",
    "\n",
    "print(\"1(a) Coin Toss Simulation:\")\n",
    "print(f\"  Probability of Heads: {p_heads:.3f}\")\n",
    "print(f\"  Probability of Tails: {p_tails:.3f}\")\n",
    "\n",
    "# (b) Rolling two dice and computing probability of sum = 7\n",
    "sum_7 = 0\n",
    "for _ in range(num_trials):\n",
    "    die1 = random.randint(1, 6)\n",
    "    die2 = random.randint(1, 6)\n",
    "    if die1 + die2 == 7:\n",
    "        sum_7 += 1\n",
    "\n",
    "p_sum_7 = sum_7 / num_trials\n",
    "print(\"\\n1(b) Dice Roll Simulation:\")\n",
    "print(f\"  Probability of getting sum = 7: {p_sum_7:.3f}\")\n"
   ]
  },
  {
   "cell_type": "markdown",
   "id": "5ab3462e",
   "metadata": {},
   "source": [
    "### 2️⃣ At Least One “6” in 10 Rolls\n",
    "- Roll a die 10 times and check if at least one 6 appears.  \n",
    "\n",
    "  **Probability formula:** $P(\\text{at least one 6}) = \\frac{\\#\\text{successful trials}}{\\text{total trials}}$  \n",
    "\n",
    "  or using complement: $P(\\text{at least one 6}) = 1 - \\left(\\frac{5}{6}\\right)^{10}$\n",
    "\n",
    "---\n"
   ]
  },
  {
   "cell_type": "code",
   "execution_count": 4,
   "id": "8fbab43e",
   "metadata": {},
   "outputs": [
    {
     "name": "stdout",
     "output_type": "stream",
     "text": [
      "\n",
      "2. Probability of at least one '6' in 10 rolls:\n",
      "  Estimated Probability: 0.840\n"
     ]
    }
   ],
   "source": [
    "def prob_at_least_one_six(trials=10000, rolls_per_trial=10):\n",
    "    success = 0\n",
    "\n",
    "    for _ in range(trials):\n",
    "        # Roll the die 10 times\n",
    "        got_six = False\n",
    "        for _ in range(rolls_per_trial):\n",
    "            if random.randint(1, 6) == 6:\n",
    "                got_six = True\n",
    "                break  # no need to continue if 6 appears\n",
    "        if got_six:\n",
    "            success += 1\n",
    "\n",
    "    return success / trials\n",
    "\n",
    "p = prob_at_least_one_six()\n",
    "print(\"\\n2. Probability of at least one '6' in 10 rolls:\")\n",
    "print(f\"  Estimated Probability: {p:.3f}\")\n"
   ]
  },
  {
   "cell_type": "markdown",
   "id": "5778cee6",
   "metadata": {},
   "source": [
    "\n",
    "### 3️⃣ Conditional Probability\n",
    "- Draw balls with replacement → count Red after Blue.  \n",
    "\n",
    "  **Conditional probability formula:** $P(\\text{Red | Blue}) = \\frac{\\#\\text{times Red occurs after Blue}}{\\#\\text{times Blue occurred previously}}$\n",
    "\n",
    "---\n"
   ]
  },
  {
   "cell_type": "code",
   "execution_count": 5,
   "id": "5c172161",
   "metadata": {},
   "outputs": [
    {
     "name": "stdout",
     "output_type": "stream",
     "text": [
      "\n",
      "3. Conditional Probability Simulation:\n",
      "  P(Red | Previous Blue) ≈ 0.222\n",
      "  Theoretical P(Red) = 5/20 = 0.25\n"
     ]
    }
   ],
   "source": [
    "colors = ['red'] * 5 + ['green'] * 7 + ['blue'] * 8\n",
    "draws = []\n",
    "\n",
    "# Simulate 1000 draws with replacement\n",
    "for _ in range(1000):\n",
    "    draws.append(random.choice(colors))\n",
    "\n",
    "# Compute P(Red | Previous Blue)\n",
    "count_prev_blue = 0\n",
    "count_blue_then_red = 0\n",
    "\n",
    "for i in range(1, len(draws)):\n",
    "    if draws[i - 1] == 'blue':\n",
    "        count_prev_blue += 1\n",
    "        if draws[i] == 'red':\n",
    "            count_blue_then_red += 1\n",
    "\n",
    "if count_prev_blue > 0:\n",
    "    p_red_given_blue = count_blue_then_red / count_prev_blue\n",
    "else:\n",
    "    p_red_given_blue = 0\n",
    "\n",
    "print(\"\\n3. Conditional Probability Simulation:\")\n",
    "print(f\"  P(Red | Previous Blue) ≈ {p_red_given_blue:.3f}\")\n",
    "print(\"  Theoretical P(Red) = 5/20 = 0.25\")\n"
   ]
  },
  {
   "cell_type": "markdown",
   "id": "d57904d6",
   "metadata": {},
   "source": [
    "### 4️⃣ Discrete Random Variable\n",
    "\n",
    "- Sample 1000 values of $X$ with $P(X=1,2,3)=0.25,0.35,0.4$.  \n",
    "\n",
    "  **Mean formula:** $\\bar{X} = \\frac{\\sum X_i}{n}$  \n",
    "\n",
    "  **Variance formula:** $Var(X) = \\frac{\\sum (X_i - \\bar{X})^2}{n}$  \n",
    "\n",
    "  **Standard deviation:** $SD = \\sqrt{Var(X)}$\n",
    "\n",
    "---\n"
   ]
  },
  {
   "cell_type": "code",
   "execution_count": 6,
   "id": "d78ccbef",
   "metadata": {},
   "outputs": [
    {
     "name": "stdout",
     "output_type": "stream",
     "text": [
      "\n",
      "4. Discrete Random Variable Simulation:\n",
      "  Empirical Mean: 2.172\n",
      "  Empirical Variance: 0.606\n",
      "  Empirical Standard Deviation: 0.779\n"
     ]
    }
   ],
   "source": [
    "# Distribution: X=1 (0.25), X=2 (0.35), X=3 (0.4)\n",
    "values = [1, 2, 3]\n",
    "probabilities = [0.25, 0.35, 0.4]\n",
    "\n",
    "# Generate 1000 samples manually\n",
    "sample = []\n",
    "for _ in range(1000):\n",
    "    r = random.random()\n",
    "    if r < probabilities[0]:\n",
    "        sample.append(1)\n",
    "    elif r < probabilities[0] + probabilities[1]:\n",
    "        sample.append(2)\n",
    "    else:\n",
    "        sample.append(3)\n",
    "\n",
    "# Calculate mean, variance, std deviation manually\n",
    "n = len(sample)\n",
    "mean = sum(sample) / n\n",
    "variance = sum((x - mean) ** 2 for x in sample) / n\n",
    "std_dev = variance ** 0.5\n",
    "\n",
    "print(\"\\n4. Discrete Random Variable Simulation:\")\n",
    "print(f\"  Empirical Mean: {mean:.3f}\")\n",
    "print(f\"  Empirical Variance: {variance:.3f}\")\n",
    "print(f\"  Empirical Standard Deviation: {std_dev:.3f}\")\n"
   ]
  },
  {
   "cell_type": "markdown",
   "id": "02ea7943",
   "metadata": {},
   "source": [
    "### 5️⃣ Exponential Distribution\n",
    "- Generate 2000 samples with mean = 5 using inverse transform method.  \n",
    "\n",
    "  **Exponential sample formula:** $X = -\\frac{\\ln(1-U)}{\\lambda}$, where $\\lambda = 1/\\text{mean}$  \n",
    "\n",
    "- Compute mean and variance from samples.\n",
    "---\n"
   ]
  },
  {
   "cell_type": "code",
   "execution_count": 7,
   "id": "30716104",
   "metadata": {},
   "outputs": [
    {
     "name": "stdout",
     "output_type": "stream",
     "text": [
      "\n",
      "5. Exponential Distribution Simulation:\n",
      "  Empirical Mean: 4.822\n",
      "  Empirical Variance: 23.567\n"
     ]
    }
   ],
   "source": [
    "import math\n",
    "\n",
    "# Generate exponential samples (mean = 5 → lambda = 1/5)\n",
    "mean = 5\n",
    "lam = 1 / mean\n",
    "samples = []\n",
    "\n",
    "for _ in range(2000):\n",
    "    u = random.random()      # uniform(0,1)\n",
    "    x = -math.log(1 - u) / lam  # inverse transform method\n",
    "    samples.append(x)\n",
    "\n",
    "# Compute mean and variance for verification\n",
    "emp_mean = sum(samples) / len(samples)\n",
    "emp_variance = sum((x - emp_mean) ** 2 for x in samples) / len(samples)\n",
    "\n",
    "print(\"\\n5. Exponential Distribution Simulation:\")\n",
    "print(f\"  Empirical Mean: {emp_mean:.3f}\")\n",
    "print(f\"  Empirical Variance: {emp_variance:.3f}\")\n"
   ]
  },
  {
   "cell_type": "markdown",
   "id": "df7d91e9",
   "metadata": {},
   "source": [
    "### 6️⃣ Central Limit Theorem\n",
    "\n",
    "- Take 1000 samples of size $n=30$ from uniform(0,1) → compute sample means.  \n",
    "\n",
    "  **Sample mean formula:** $\\bar{X} = \\frac{\\sum X_i}{n}$  \n",
    "\n",
    "  **Variance of means:** $Var(\\bar{X}) = \\frac{\\sum (\\bar{X}_i - \\mu)^2}{N}$  \n",
    "\n",
    "- Distribution of sample means → approximately normal even if original data is uniform.\n",
    "---"
   ]
  },
  {
   "cell_type": "code",
   "execution_count": 9,
   "id": "f70c94a1",
   "metadata": {},
   "outputs": [
    {
     "name": "stdout",
     "output_type": "stream",
     "text": [
      "\n",
      "6. Central Limit Theorem Simulation:\n",
      "  Mean of Sample Means: 0.506\n",
      "  Variance of Sample Means: 0.00294\n"
     ]
    }
   ],
   "source": [
    "# Generate 10,000 uniform random numbers\n",
    "uniform_data = [random.random() for _ in range(10000)]\n",
    "\n",
    "# Draw 1000 samples of size n = 30 and compute sample means\n",
    "sample_means = []\n",
    "for _ in range(1000):\n",
    "    sample = random.choices(uniform_data, k=30)\n",
    "    mean = sum(sample) / 30\n",
    "    sample_means.append(mean)\n",
    "\n",
    "# Compute mean and variance of sample means\n",
    "mean_of_means = sum(sample_means) / len(sample_means)\n",
    "variance_of_means = sum((m - mean_of_means) ** 2 for m in sample_means) / len(sample_means)\n",
    "\n",
    "print(\"\\n6. Central Limit Theorem Simulation:\")\n",
    "print(f\"  Mean of Sample Means: {mean_of_means:.3f}\")\n",
    "print(f\"  Variance of Sample Means: {variance_of_means:.5f}\")"
   ]
  }
 ],
 "metadata": {
  "kernelspec": {
   "display_name": "Python 3",
   "language": "python",
   "name": "python3"
  },
  "language_info": {
   "codemirror_mode": {
    "name": "ipython",
    "version": 3
   },
   "file_extension": ".py",
   "mimetype": "text/x-python",
   "name": "python",
   "nbconvert_exporter": "python",
   "pygments_lexer": "ipython3",
   "version": "3.14.0"
  }
 },
 "nbformat": 4,
 "nbformat_minor": 5
}
