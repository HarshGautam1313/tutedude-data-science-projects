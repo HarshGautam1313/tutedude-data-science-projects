{
 "cells": [
  {
   "cell_type": "markdown",
   "id": "88046bd9",
   "metadata": {},
   "source": [
    "### 1.) **Basic of Probability**\n",
    "#### A. Tossing a Coin\n",
    "---\n",
    "#### B. Rolling Two Dice\n",
    "---\n",
    "\n"
   ]
  },
  {
   "cell_type": "code",
   "execution_count": 2,
   "id": "61b7bb3c",
   "metadata": {},
   "outputs": [
    {
     "name": "stdout",
     "output_type": "stream",
     "text": [
      "1(a) Coin Toss Simulation:\n",
      "  Probability of Heads: 0.497\n",
      "  Probability of Tails: 0.503\n",
      "\n",
      "1(b) Dice Roll Simulation:\n",
      "  Probability of getting sum = 7: 0.160\n"
     ]
    }
   ],
   "source": [
    "import random\n",
    "\n",
    "# (a) Tossing a coin 10,000 times\n",
    "num_trials = 10000\n",
    "heads = 0\n",
    "tails = 0\n",
    "\n",
    "for _ in range(num_trials):\n",
    "    toss = random.choice(['H', 'T'])\n",
    "    if toss == 'H':\n",
    "        heads += 1\n",
    "    else:\n",
    "        tails += 1\n",
    "\n",
    "p_heads = heads / num_trials\n",
    "p_tails = tails / num_trials\n",
    "\n",
    "print(\"1(a) Coin Toss Simulation:\")\n",
    "print(f\"  Probability of Heads: {p_heads:.3f}\")\n",
    "print(f\"  Probability of Tails: {p_tails:.3f}\")\n",
    "\n",
    "# (b) Rolling two dice and computing probability of sum = 7\n",
    "sum_7 = 0\n",
    "for _ in range(num_trials):\n",
    "    die1 = random.randint(1, 6)\n",
    "    die2 = random.randint(1, 6)\n",
    "    if die1 + die2 == 7:\n",
    "        sum_7 += 1\n",
    "\n",
    "p_sum_7 = sum_7 / num_trials\n",
    "print(\"\\n1(b) Dice Roll Simulation:\")\n",
    "print(f\"  Probability of getting sum = 7: {p_sum_7:.3f}\")\n"
   ]
  },
  {
   "cell_type": "code",
   "execution_count": null,
   "id": "8fbab43e",
   "metadata": {},
   "outputs": [],
   "source": []
  }
 ],
 "metadata": {
  "kernelspec": {
   "display_name": "Python 3",
   "language": "python",
   "name": "python3"
  },
  "language_info": {
   "codemirror_mode": {
    "name": "ipython",
    "version": 3
   },
   "file_extension": ".py",
   "mimetype": "text/x-python",
   "name": "python",
   "nbconvert_exporter": "python",
   "pygments_lexer": "ipython3",
   "version": "3.14.0"
  }
 },
 "nbformat": 4,
 "nbformat_minor": 5
}
